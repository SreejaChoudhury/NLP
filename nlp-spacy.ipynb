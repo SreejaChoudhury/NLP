{
 "cells": [
  {
   "cell_type": "markdown",
   "id": "bcdd7ce6",
   "metadata": {
    "id": "4QJJyjLX4DTl",
    "papermill": {
     "duration": 0.011837,
     "end_time": "2024-09-03T10:33:03.256674",
     "exception": false,
     "start_time": "2024-09-03T10:33:03.244837",
     "status": "completed"
    },
    "tags": []
   },
   "source": [
    "## Importing Libraries"
   ]
  },
  {
   "cell_type": "code",
   "execution_count": 1,
   "id": "7583be1e",
   "metadata": {
    "execution": {
     "iopub.execute_input": "2024-09-03T10:33:03.281952Z",
     "iopub.status.busy": "2024-09-03T10:33:03.281516Z",
     "iopub.status.idle": "2024-09-03T10:33:11.472799Z",
     "shell.execute_reply": "2024-09-03T10:33:11.471190Z"
    },
    "id": "Dmu_5TC9Icsq",
    "outputId": "5d961b7c-29b2-4117-d8d5-1f7d416dbfa7",
    "papermill": {
     "duration": 8.208399,
     "end_time": "2024-09-03T10:33:11.476402",
     "exception": false,
     "start_time": "2024-09-03T10:33:03.268003",
     "status": "completed"
    },
    "tags": []
   },
   "outputs": [],
   "source": [
    "from tqdm import tqdm\n",
    "import zipfile\n",
    "import os\n",
    "import json\n",
    "import spacy\n",
    "import re\n",
    "from collections import Counter\n",
    "import numpy as np\n",
    "import pandas as pd\n",
    "from scipy.stats import linregress\n",
    "import matplotlib.pyplot as plt\n",
    "import multiprocessing as mp\n",
    "from multiprocessing import Pool\n",
    "from prettytable import PrettyTable\n",
    "import nltk"
   ]
  },
  {
   "cell_type": "code",
   "execution_count": 2,
   "id": "e80f816b",
   "metadata": {
    "execution": {
     "iopub.execute_input": "2024-09-03T10:33:11.502553Z",
     "iopub.status.busy": "2024-09-03T10:33:11.501140Z",
     "iopub.status.idle": "2024-09-03T10:33:12.934815Z",
     "shell.execute_reply": "2024-09-03T10:33:12.933533Z"
    },
    "id": "IrI6dK_x9j-c",
    "outputId": "998fe0c1-306e-419a-b0d5-2f47e9d2c6f4",
    "papermill": {
     "duration": 1.449317,
     "end_time": "2024-09-03T10:33:12.937699",
     "exception": false,
     "start_time": "2024-09-03T10:33:11.488382",
     "status": "completed"
    },
    "tags": []
   },
   "outputs": [],
   "source": [
    "# loading pre-trained en model from spacy\n",
    "nlp = spacy.load(\"en_core_web_sm\")\n"
   ]
  },
  {
   "cell_type": "markdown",
   "id": "f5c9c32d",
   "metadata": {
    "id": "aaUj0rHU3_2T",
    "papermill": {
     "duration": 0.010995,
     "end_time": "2024-09-03T10:33:12.960105",
     "exception": false,
     "start_time": "2024-09-03T10:33:12.949110",
     "status": "completed"
    },
    "tags": []
   },
   "source": [
    "## Loading the data"
   ]
  },
  {
   "cell_type": "code",
   "execution_count": 3,
   "id": "30626515",
   "metadata": {
    "execution": {
     "iopub.execute_input": "2024-09-03T10:33:12.984459Z",
     "iopub.status.busy": "2024-09-03T10:33:12.984076Z",
     "iopub.status.idle": "2024-09-03T10:34:46.768526Z",
     "shell.execute_reply": "2024-09-03T10:34:46.767206Z"
    },
    "id": "VH3jmYSN7GU5",
    "outputId": "7e48ff3e-e8ad-4a22-e1b0-14eeaf0f4bf7",
    "papermill": {
     "duration": 93.812404,
     "end_time": "2024-09-03T10:34:46.784036",
     "exception": false,
     "start_time": "2024-09-03T10:33:12.971632",
     "status": "completed"
    },
    "tags": []
   },
   "outputs": [
    {
     "name": "stdout",
     "output_type": "stream",
     "text": [
      "56529\n"
     ]
    }
   ],
   "source": [
    "file_path = '/kaggle/input/pdf-json/pdf_json'\n",
    "\n",
    "file_names = []\n",
    "for dirpath, dirnames, filenames in os.walk(file_path):\n",
    "    for filename in filenames:\n",
    "        file_names.append(os.path.join(dirpath, filename))\n",
    "print(len(file_names))\n",
    "        \n",
    "file_names = [i for i in file_names if i.endswith('.json')]"
   ]
  },
  {
   "cell_type": "code",
   "execution_count": 4,
   "id": "0d55061b",
   "metadata": {
    "execution": {
     "iopub.execute_input": "2024-09-03T10:34:46.809537Z",
     "iopub.status.busy": "2024-09-03T10:34:46.808468Z",
     "iopub.status.idle": "2024-09-03T10:34:46.817952Z",
     "shell.execute_reply": "2024-09-03T10:34:46.816736Z"
    },
    "id": "C_sVEXN1N_MH",
    "outputId": "0413b367-d432-4742-a382-631e83eb03d8",
    "papermill": {
     "duration": 0.02514,
     "end_time": "2024-09-03T10:34:46.820452",
     "exception": false,
     "start_time": "2024-09-03T10:34:46.795312",
     "status": "completed"
    },
    "tags": []
   },
   "outputs": [
    {
     "data": {
      "text/plain": [
       "56528"
      ]
     },
     "execution_count": 4,
     "metadata": {},
     "output_type": "execute_result"
    }
   ],
   "source": [
    "len(file_names)"
   ]
  },
  {
   "cell_type": "markdown",
   "id": "1d35a5b3",
   "metadata": {
    "id": "ewHY4Wc6ZPZj",
    "papermill": {
     "duration": 0.011373,
     "end_time": "2024-09-03T10:34:46.843418",
     "exception": false,
     "start_time": "2024-09-03T10:34:46.832045",
     "status": "completed"
    },
    "tags": []
   },
   "source": [
    "## Helper Function"
   ]
  },
  {
   "cell_type": "code",
   "execution_count": 5,
   "id": "47a25bf9",
   "metadata": {
    "execution": {
     "iopub.execute_input": "2024-09-03T10:34:46.869258Z",
     "iopub.status.busy": "2024-09-03T10:34:46.868038Z",
     "iopub.status.idle": "2024-09-03T10:34:46.876656Z",
     "shell.execute_reply": "2024-09-03T10:34:46.875532Z"
    },
    "id": "7oDlVzh1QMXp",
    "outputId": "0ba43b91-c610-466c-9744-c3ebaef5f561",
    "papermill": {
     "duration": 0.024176,
     "end_time": "2024-09-03T10:34:46.879173",
     "exception": false,
     "start_time": "2024-09-03T10:34:46.854997",
     "status": "completed"
    },
    "tags": []
   },
   "outputs": [],
   "source": [
    "# Extract text from json file\n",
    "\n",
    "def json2text(filename):\n",
    "  file = open(filename)\n",
    "  content = json.load(file)\n",
    "\n",
    "  abstract = ''\n",
    "  body_text = ''\n",
    "  title = ''\n",
    "\n",
    "  paper_id = content['paper_id']\n",
    "\n",
    "  if 'title' in content:\n",
    "    title = content['title']\n",
    "\n",
    "  if 'abstract' in content:\n",
    "    for abs in content[\"abstract\"]:\n",
    "      abstract = abstract + abs[\"text\"]\n",
    "\n",
    "  if \"body_text\" in content:\n",
    "    for bt in content[\"body_text\"]:\n",
    "      body_text = body_text + bt[\"text\"]\n",
    "\n",
    "    return ((f\"{title} {abstract} {body_text}\").lower())"
   ]
  },
  {
   "cell_type": "markdown",
   "id": "8e757476",
   "metadata": {
    "id": "bqi8R8Id4MQL",
    "papermill": {
     "duration": 0.011544,
     "end_time": "2024-09-03T10:34:46.902380",
     "exception": false,
     "start_time": "2024-09-03T10:34:46.890836",
     "status": "completed"
    },
    "tags": []
   },
   "source": [
    "### Preprocessing"
   ]
  },
  {
   "cell_type": "code",
   "execution_count": 6,
   "id": "ef0bb771",
   "metadata": {
    "execution": {
     "iopub.execute_input": "2024-09-03T10:34:46.927567Z",
     "iopub.status.busy": "2024-09-03T10:34:46.927177Z",
     "iopub.status.idle": "2024-09-03T10:34:46.936506Z",
     "shell.execute_reply": "2024-09-03T10:34:46.935144Z"
    },
    "id": "xxyKgnzMwoVt",
    "outputId": "5f5c320c-15b0-4807-eb01-4e5db83d8c74",
    "papermill": {
     "duration": 0.025216,
     "end_time": "2024-09-03T10:34:46.939395",
     "exception": false,
     "start_time": "2024-09-03T10:34:46.914179",
     "status": "completed"
    },
    "tags": []
   },
   "outputs": [],
   "source": [
    "# Function to check if a token is a Roman numeral\n",
    "def is_roman_numeral(token):\n",
    "    pattern = r'^(?=[MDCLXVI])M*(C[MD]|D?C{0,3})(X[CL]|L?X{0,3})(I[XV]|V?I{0,3})$'\n",
    "    return re.fullmatch(pattern, token) is not None\n",
    "\n",
    "# Combined preprocessing and cleaning function\n",
    "def preprocessing(text):\n",
    "    # Parse the text using spaCy\n",
    "    doc = nlp(text)\n",
    "    # Initialize an empty list to hold the filtered tokens\n",
    "    filt_text = []\n",
    "\n",
    "    for token in doc:\n",
    "        # Remove numeric tokens\n",
    "        if token.like_num:\n",
    "            continue\n",
    "\n",
    "        # Select only tokens containing alphabets\n",
    "        if not token.is_alpha:\n",
    "            continue\n",
    "\n",
    "        # Remove stopwords\n",
    "        if token.is_stop:\n",
    "            continue\n",
    "\n",
    "        # Remove Roman numerals\n",
    "        if is_roman_numeral(token.text):\n",
    "            continue\n",
    "\n",
    "        # Remove if token length < 3\n",
    "        if len(token.text) < 3:\n",
    "            continue\n",
    "\n",
    "\n",
    "        if token.text.lower() in ['et', 'al']:\n",
    "          continue\n",
    "        # Convert token text to lowercase and add to filtered list\n",
    "        filt_text.append(token.text.lower())\n",
    "\n",
    "    return filt_text\n"
   ]
  },
  {
   "cell_type": "code",
   "execution_count": 7,
   "id": "b8a1425a",
   "metadata": {
    "execution": {
     "iopub.execute_input": "2024-09-03T10:34:46.970576Z",
     "iopub.status.busy": "2024-09-03T10:34:46.969754Z",
     "iopub.status.idle": "2024-09-03T10:34:46.977019Z",
     "shell.execute_reply": "2024-09-03T10:34:46.975766Z"
    },
    "id": "CbgW1QyV2k4N",
    "outputId": "0f77633b-d760-4142-b4f4-5ccac3761630",
    "papermill": {
     "duration": 0.023771,
     "end_time": "2024-09-03T10:34:46.979608",
     "exception": false,
     "start_time": "2024-09-03T10:34:46.955837",
     "status": "completed"
    },
    "tags": []
   },
   "outputs": [],
   "source": [
    "# Function to find weighted frequency of each words\n",
    "def weighted_freq_words(text):\n",
    "\n",
    "  word_frequencies = Counter(text)\n",
    "\n",
    "    # Find the maximum frequency in the text\n",
    "  total_freq = sum(word_frequencies.values())\n",
    "    # Compute the weighted frequency for each word\n",
    "  weighted_frequencies = {word: freq / total_freq for word, freq in word_frequencies.items()}\n",
    "  # sorting the weighted_frequencies in descending order of values\n",
    "  weighted_frequencies = dict(sorted(weighted_frequencies.items(), key=lambda item: item[1], reverse=True))\n",
    "  return word_frequencies, weighted_frequencies"
   ]
  },
  {
   "cell_type": "code",
   "execution_count": 8,
   "id": "ebc38408",
   "metadata": {
    "execution": {
     "iopub.execute_input": "2024-09-03T10:34:47.005172Z",
     "iopub.status.busy": "2024-09-03T10:34:47.004764Z",
     "iopub.status.idle": "2024-09-03T10:34:47.013135Z",
     "shell.execute_reply": "2024-09-03T10:34:47.011570Z"
    },
    "id": "14uBOXHA2kww",
    "outputId": "a7575e4e-5766-4069-afbc-9338733eb3dd",
    "papermill": {
     "duration": 0.024279,
     "end_time": "2024-09-03T10:34:47.015926",
     "exception": false,
     "start_time": "2024-09-03T10:34:46.991647",
     "status": "completed"
    },
    "tags": []
   },
   "outputs": [],
   "source": [
    "# Function to compute Zipf's Law\n",
    "def compute_zipf_law(word_frequencies):\n",
    "    sorted_words = sorted(word_frequencies.items(), key=lambda x: x[1], reverse=True)\n",
    "    ranks = np.arange(1, len(sorted_words) + 1)\n",
    "    frequencies = np.array([freq for word, freq in sorted_words])\n",
    "\n",
    "    log_ranks = np.log(ranks)\n",
    "    log_frequencies = np.log(frequencies)\n",
    "    slope, intercept, r_value, p_value, std_err = linregress(log_ranks, log_frequencies)\n",
    "    alpha = -slope\n",
    "    return alpha, ranks, sorted_words\n",
    "\n"
   ]
  },
  {
   "cell_type": "code",
   "execution_count": 9,
   "id": "d0e2a6d3",
   "metadata": {
    "execution": {
     "iopub.execute_input": "2024-09-03T10:34:47.041376Z",
     "iopub.status.busy": "2024-09-03T10:34:47.040518Z",
     "iopub.status.idle": "2024-09-03T10:34:47.046493Z",
     "shell.execute_reply": "2024-09-03T10:34:47.045338Z"
    },
    "id": "t3sMiyqV7Nlv",
    "outputId": "6c734af5-9336-4ee0-9195-b8273fdb2d14",
    "papermill": {
     "duration": 0.021131,
     "end_time": "2024-09-03T10:34:47.048814",
     "exception": false,
     "start_time": "2024-09-03T10:34:47.027683",
     "status": "completed"
    },
    "tags": []
   },
   "outputs": [],
   "source": [
    "# Function to get tokens and vocabulary\n",
    "def get_tokens_and_vocabulary(processed_text):\n",
    "    num_tokens = len(processed_text)\n",
    "    vocabulary = set(processed_text)\n",
    "    vocab_size = len(vocabulary)\n",
    "    return num_tokens, vocabulary, vocab_size"
   ]
  },
  {
   "cell_type": "code",
   "execution_count": 10,
   "id": "cacd6fbe",
   "metadata": {
    "execution": {
     "iopub.execute_input": "2024-09-03T10:34:47.074589Z",
     "iopub.status.busy": "2024-09-03T10:34:47.073523Z",
     "iopub.status.idle": "2024-09-03T10:34:47.082996Z",
     "shell.execute_reply": "2024-09-03T10:34:47.081681Z"
    },
    "id": "VZgAfRsNULFo",
    "outputId": "f90d1644-855e-414c-b9d4-114a2580717a",
    "papermill": {
     "duration": 0.025294,
     "end_time": "2024-09-03T10:34:47.085495",
     "exception": false,
     "start_time": "2024-09-03T10:34:47.060201",
     "status": "completed"
    },
    "tags": []
   },
   "outputs": [],
   "source": [
    "# Function to plot Heaps' Law\n",
    "def plot_heaps_law(processed_text, num_tokens):\n",
    "    token_counts = []\n",
    "    vocab_sizes = []\n",
    "    chunk_size = 10000\n",
    "    current_vocab = set()\n",
    "\n",
    "    for i in tqdm(range(0, num_tokens, chunk_size), desc=\"Plotting Heaps' Law\"):\n",
    "        chunk = processed_text[i:i+chunk_size]\n",
    "        current_vocab.update(chunk)\n",
    "        token_counts.append(i + chunk_size)\n",
    "        vocab_sizes.append(len(current_vocab))\n",
    "\n",
    "    plt.figure(figsize=(10, 6))\n",
    "    plt.plot(token_counts, vocab_sizes, label=\"Vocabulary Growth\")\n",
    "    plt.xscale('log')\n",
    "    plt.yscale('log')\n",
    "    plt.xlabel(\"Number of Tokens (log scale)\")\n",
    "    plt.ylabel(\"Vocabulary Size (log scale)\")\n",
    "    plt.title(\"Heaps' Law: Tokens vs. Vocabulary\")\n",
    "    plt.legend()\n",
    "    plt.grid(False)\n",
    "    plt.show()"
   ]
  },
  {
   "cell_type": "markdown",
   "id": "f1f45c03",
   "metadata": {
    "id": "fiulUsF-swvQ",
    "papermill": {
     "duration": 0.011224,
     "end_time": "2024-09-03T10:34:47.108821",
     "exception": false,
     "start_time": "2024-09-03T10:34:47.097597",
     "status": "completed"
    },
    "tags": []
   },
   "source": [
    "## Multiprocessing"
   ]
  },
  {
   "cell_type": "code",
   "execution_count": 11,
   "id": "5a5013b4",
   "metadata": {
    "execution": {
     "iopub.execute_input": "2024-09-03T10:34:47.134485Z",
     "iopub.status.busy": "2024-09-03T10:34:47.134005Z",
     "iopub.status.idle": "2024-09-03T10:34:47.142671Z",
     "shell.execute_reply": "2024-09-03T10:34:47.141391Z"
    },
    "id": "RDaZeQ2VY5eE",
    "outputId": "918b81a9-56e7-4982-8261-6243c799ffc8",
    "papermill": {
     "duration": 0.02448,
     "end_time": "2024-09-03T10:34:47.145247",
     "exception": false,
     "start_time": "2024-09-03T10:34:47.120767",
     "status": "completed"
    },
    "tags": []
   },
   "outputs": [
    {
     "data": {
      "text/plain": [
       "4"
      ]
     },
     "execution_count": 11,
     "metadata": {},
     "output_type": "execute_result"
    }
   ],
   "source": [
    "cpu_count = os.cpu_count() or mp.cpu_count()\n",
    "cpu_count"
   ]
  },
  {
   "cell_type": "code",
   "execution_count": 12,
   "id": "cd963383",
   "metadata": {
    "execution": {
     "iopub.execute_input": "2024-09-03T10:34:47.171546Z",
     "iopub.status.busy": "2024-09-03T10:34:47.170450Z",
     "iopub.status.idle": "2024-09-03T10:34:48.589317Z",
     "shell.execute_reply": "2024-09-03T10:34:48.588156Z"
    },
    "papermill": {
     "duration": 1.435251,
     "end_time": "2024-09-03T10:34:48.592205",
     "exception": false,
     "start_time": "2024-09-03T10:34:47.156954",
     "status": "completed"
    },
    "tags": []
   },
   "outputs": [],
   "source": [
    "# loading pre-trained en model from spacy(Switching to larger model in production)\n",
    "nlp = spacy.load(\"en_core_web_sm\")\n",
    "\n",
    "nlp.max_length = 10000000"
   ]
  },
  {
   "cell_type": "code",
   "execution_count": 13,
   "id": "e8c99049",
   "metadata": {
    "execution": {
     "iopub.execute_input": "2024-09-03T10:34:48.618209Z",
     "iopub.status.busy": "2024-09-03T10:34:48.617805Z",
     "iopub.status.idle": "2024-09-03T10:34:48.625684Z",
     "shell.execute_reply": "2024-09-03T10:34:48.624466Z"
    },
    "id": "JZf7r7s9szOK",
    "outputId": "e0d29391-42a1-4c58-c039-87dc8f44f844",
    "papermill": {
     "duration": 0.023599,
     "end_time": "2024-09-03T10:34:48.628254",
     "exception": false,
     "start_time": "2024-09-03T10:34:48.604655",
     "status": "completed"
    },
    "tags": []
   },
   "outputs": [],
   "source": [
    "\n",
    "# Function to process a single file\n",
    "def process_file(file):\n",
    "    text = json2text(file)\n",
    "    processed_txt = preprocessing(text)\n",
    "    return processed_txt\n",
    "\n",
    "# Function to parallelize the processing of files and aggregate the results into a corpus\n",
    "def parallel_process_corpus(json_files):\n",
    "\n",
    "    with Pool(processes=cpu_count) as pool:\n",
    "        processed_texts = list(tqdm(pool.imap(process_file, json_files), total=len(json_files), desc=\"Processing Files\"))\n",
    "\n",
    "    corpus = []\n",
    "    for processed_txt in tqdm(processed_texts, desc=\"Aggregating Corpus\"):\n",
    "        corpus += processed_txt\n",
    "\n",
    "    return corpus\n"
   ]
  },
  {
   "cell_type": "code",
   "execution_count": 14,
   "id": "72f871b7",
   "metadata": {
    "execution": {
     "iopub.execute_input": "2024-09-03T10:34:48.653432Z",
     "iopub.status.busy": "2024-09-03T10:34:48.653010Z",
     "iopub.status.idle": "2024-09-03T16:12:16.049954Z",
     "shell.execute_reply": "2024-09-03T16:12:16.047796Z"
    },
    "id": "Sn8U8bv02kzH",
    "outputId": "dcb09182-9254-417a-d57c-8f6d1c25cc0f",
    "papermill": {
     "duration": 20247.413313,
     "end_time": "2024-09-03T16:12:16.053377",
     "exception": false,
     "start_time": "2024-09-03T10:34:48.640064",
     "status": "completed"
    },
    "tags": []
   },
   "outputs": [
    {
     "name": "stderr",
     "output_type": "stream",
     "text": [
      "Processing Files: 100%|██████████| 56528/56528 [5:33:31<00:00,  2.82it/s]\n",
      "Aggregating Corpus: 100%|██████████| 56528/56528 [00:26<00:00, 2162.72it/s] \n"
     ]
    },
    {
     "name": "stdout",
     "output_type": "stream",
     "text": [
      "Number of tokens: 117831507\n",
      "Vocabulary size: 923123\n",
      "\n",
      "First 10 words by rank:\n",
      "+-----------+-----------+--------------------+------+\n",
      "|    Word   | Frequency | Weighted Frequency | Rank |\n",
      "+-----------+-----------+--------------------+------+\n",
      "|  patients |   706928  |       0.006        |  1   |\n",
      "|   cells   |   494168  |       0.0042       |  2   |\n",
      "|   study   |   405698  |       0.0034       |  3   |\n",
      "|   virus   |   405100  |       0.0034       |  4   |\n",
      "|    data   |   391726  |       0.0033       |  5   |\n",
      "| infection |   384083  |       0.0033       |  6   |\n",
      "|  disease  |   343327  |       0.0029       |  7   |\n",
      "|    sars   |   310695  |       0.0026       |  8   |\n",
      "|    cell   |   306235  |       0.0026       |  9   |\n",
      "|    time   |   299805  |       0.0025       |  10  |\n",
      "+-----------+-----------+--------------------+------+\n",
      "\n",
      "Last 10 words by rank:\n",
      "+------------------+-----------+--------------------+--------+\n",
      "|       Word       | Frequency | Weighted Frequency |  Rank  |\n",
      "+------------------+-----------+--------------------+--------+\n",
      "|     ggmosaic     |     1     |        0.0         | 923114 |\n",
      "|    venneuler     |     1     |        0.0         | 923115 |\n",
      "|      eulerr      |     1     |        0.0         | 923116 |\n",
      "| areaproportional |     1     |        0.0         | 923117 |\n",
      "|    cheatsheet    |     1     |        0.0         | 923118 |\n",
      "|   prunesmaller   |     1     |        0.0         | 923119 |\n",
      "|       elig       |     1     |        0.0         | 923120 |\n",
      "|      weald       |     1     |        0.0         | 923121 |\n",
      "|    microsoftâ    |     1     |        0.0         | 923122 |\n",
      "|      excelâ      |     1     |        0.0         | 923123 |\n",
      "+------------------+-----------+--------------------+--------+\n",
      "\n",
      "Estimated alpha value for Zipf's Law: 1.5774\n",
      "\n"
     ]
    },
    {
     "name": "stderr",
     "output_type": "stream",
     "text": [
      "Plotting Heaps' Law: 100%|██████████| 11784/11784 [00:15<00:00, 753.24it/s]\n"
     ]
    },
    {
     "data": {
      "image/png": "[encoded data removed]",
      "text/plain": [
       "<Figure size 1000x600 with 1 Axes>"
      ]
     },
     "metadata": {},
     "output_type": "display_data"
    }
   ],
   "source": [
    "# Function to process and analyze the text in parallel\n",
    "def process_text_and_analyze(corpus):\n",
    "    with Pool() as pool:\n",
    "        num_tokens, vocabulary, vocab_size = pool.apply(get_tokens_and_vocabulary, args=(corpus,))\n",
    "\n",
    "    print(f\"Number of tokens: {num_tokens}\")\n",
    "    print(f\"Vocabulary size: {vocab_size}\")\n",
    "\n",
    "    word_frequencies, weighted_frequencies = weighted_freq_words(corpus)\n",
    "\n",
    "    with Pool(processes=cpu_count) as pool:\n",
    "        alpha, ranks, sorted_words = pool.apply(compute_zipf_law, args=(word_frequencies,))\n",
    "\n",
    "    table = PrettyTable()\n",
    "    table.field_names = [\"Word\", \"Frequency\", \"Weighted Frequency\", \"Rank\"]\n",
    "\n",
    "    print(\"\\nFirst 10 words by rank:\")\n",
    "    for i in range(10):\n",
    "        word, freq = sorted_words[i]\n",
    "        table.add_row([word, freq, round(weighted_frequencies[word], 4), ranks[i]])\n",
    "    print(table)\n",
    "\n",
    "    table.clear_rows()\n",
    "\n",
    "    print(\"\\nLast 10 words by rank:\")\n",
    "    for i in range(-10, 0, 1):\n",
    "        word, freq = sorted_words[i]\n",
    "        table.add_row([word, freq, round(weighted_frequencies[word], 4), ranks[i]])\n",
    "    print(table)\n",
    "\n",
    "    print(f\"\\nEstimated alpha value for Zipf's Law: {alpha:.4f}\\n\")\n",
    "\n",
    "    plot_heaps_law(corpus, num_tokens)\n",
    "\n",
    "# Process the text files in parallel and analyze\n",
    "  # Ensure you have the list of JSON files here\n",
    "corpus = parallel_process_corpus(file_names)\n",
    "\n",
    "# Analyze the processed corpus\n",
    "process_text_and_analyze(corpus)\n"
   ]
  },
  {
   "cell_type": "code",
   "execution_count": null,
   "id": "8a05f59d",
   "metadata": {
    "id": "WrsBkVpWxM--",
    "outputId": "329d1f87-d659-4939-954e-bf00c813be84",
    "papermill": {
     "duration": 1.139496,
     "end_time": "2024-09-03T16:12:18.344248",
     "exception": false,
     "start_time": "2024-09-03T16:12:17.204752",
     "status": "completed"
    },
    "tags": []
   },
   "outputs": [],
   "source": []
  },
  {
   "cell_type": "code",
   "execution_count": null,
   "id": "39320a0c",
   "metadata": {
    "id": "5elbAmB9xM8S",
    "outputId": "7bc13c05-5685-4ccd-978a-1ce934829b66",
    "papermill": {
     "duration": 1.134311,
     "end_time": "2024-09-03T16:12:20.751828",
     "exception": false,
     "start_time": "2024-09-03T16:12:19.617517",
     "status": "completed"
    },
    "tags": []
   },
   "outputs": [],
   "source": []
  },
  {
   "cell_type": "code",
   "execution_count": null,
   "id": "c17ea092",
   "metadata": {
    "id": "XLXejgPbxM6L",
    "outputId": "4e7e14f2-03ac-468c-d477-f8f82cc40a57",
    "papermill": {
     "duration": 1.152068,
     "end_time": "2024-09-03T16:12:23.037302",
     "exception": false,
     "start_time": "2024-09-03T16:12:21.885234",
     "status": "completed"
    },
    "tags": []
   },
   "outputs": [],
   "source": []
  },
  {
   "cell_type": "code",
   "execution_count": null,
   "id": "92161cd9",
   "metadata": {
    "id": "wKRa5XH5xM30",
    "outputId": "e7c32b59-cfa9-4296-e2f2-23940ebbdcbf",
    "papermill": {
     "duration": 1.162678,
     "end_time": "2024-09-03T16:12:25.487244",
     "exception": false,
     "start_time": "2024-09-03T16:12:24.324566",
     "status": "completed"
    },
    "tags": []
   },
   "outputs": [],
   "source": []
  },
  {
   "cell_type": "code",
   "execution_count": null,
   "id": "27dbeb61",
   "metadata": {
    "id": "96RUfG_jxM1c",
    "outputId": "b353ffe3-5543-4c3c-a88e-b120c015b16b",
    "papermill": {
     "duration": 1.257627,
     "end_time": "2024-09-03T16:12:27.896910",
     "exception": false,
     "start_time": "2024-09-03T16:12:26.639283",
     "status": "completed"
    },
    "tags": []
   },
   "outputs": [],
   "source": []
  },
  {
   "cell_type": "code",
   "execution_count": null,
   "id": "87a1cfd5",
   "metadata": {
    "id": "WURqBDt6xMzK",
    "outputId": "922c559b-e254-4ab9-daeb-3094c8b6e868",
    "papermill": {
     "duration": 1.140885,
     "end_time": "2024-09-03T16:12:30.185081",
     "exception": false,
     "start_time": "2024-09-03T16:12:29.044196",
     "status": "completed"
    },
    "tags": []
   },
   "outputs": [],
   "source": []
  },
  {
   "cell_type": "code",
   "execution_count": null,
   "id": "355f3a93",
   "metadata": {
    "id": "P4Sn79mWxMwv",
    "outputId": "b762a81f-254f-4742-b834-ed97ee8baaae",
    "papermill": {
     "duration": 1.257926,
     "end_time": "2024-09-03T16:12:32.584966",
     "exception": false,
     "start_time": "2024-09-03T16:12:31.327040",
     "status": "completed"
    },
    "tags": []
   },
   "outputs": [],
   "source": []
  },
  {
   "cell_type": "code",
   "execution_count": 15,
   "id": "67011114",
   "metadata": {
    "execution": {
     "iopub.execute_input": "2024-09-03T16:12:34.873628Z",
     "iopub.status.busy": "2024-09-03T16:12:34.873141Z",
     "iopub.status.idle": "2024-09-03T16:12:38.585731Z",
     "shell.execute_reply": "2024-09-03T16:12:38.584167Z"
    },
    "id": "xLE0jZqQcnNO",
    "outputId": "d64a9295-c5a3-476d-d1a9-46df4ceeeeed",
    "papermill": {
     "duration": 4.869589,
     "end_time": "2024-09-03T16:12:38.588120",
     "exception": true,
     "start_time": "2024-09-03T16:12:33.718531",
     "status": "failed"
    },
    "tags": []
   },
   "outputs": [
    {
     "ename": "NameError",
     "evalue": "name 'json_files' is not defined",
     "output_type": "error",
     "traceback": [
      "\u001b[0;31m---------------------------------------------------------------------------\u001b[0m",
      "\u001b[0;31mNameError\u001b[0m                                 Traceback (most recent call last)",
      "Cell \u001b[0;32mIn[15], line 1\u001b[0m\n\u001b[0;32m----> 1\u001b[0m \u001b[38;5;28mtype\u001b[39m(preprocessing(json2text(\u001b[43mjson_files\u001b[49m[\u001b[38;5;241m0\u001b[39m])))\n",
      "\u001b[0;31mNameError\u001b[0m: name 'json_files' is not defined"
     ]
    }
   ],
   "source": [
    "type(preprocessing(json2text(json_files[0])))"
   ]
  },
  {
   "cell_type": "code",
   "execution_count": null,
   "id": "949476ac",
   "metadata": {
    "collapsed": true,
    "id": "JMW33n2v2lA0",
    "jupyter": {
     "outputs_hidden": true
    },
    "outputId": "b6a79c69-c1e3-4ca3-f6a0-502e7369eda9",
    "papermill": {
     "duration": null,
     "end_time": null,
     "exception": null,
     "start_time": null,
     "status": "pending"
    },
    "tags": []
   },
   "outputs": [],
   "source": [
    "\n"
   ]
  },
  {
   "cell_type": "code",
   "execution_count": null,
   "id": "8e5ec7c0",
   "metadata": {
    "execution": {
     "iopub.status.busy": "2024-09-03T09:26:31.485464Z",
     "iopub.status.idle": "2024-09-03T09:26:31.486039Z",
     "shell.execute_reply": "2024-09-03T09:26:31.485768Z",
     "shell.execute_reply.started": "2024-09-03T09:26:31.485746Z"
    },
    "id": "wHIas8gIdX8b",
    "outputId": "9fd3b4f4-3eb0-4664-fb70-5a412897a3ec",
    "papermill": {
     "duration": null,
     "end_time": null,
     "exception": null,
     "start_time": null,
     "status": "pending"
    },
    "tags": []
   },
   "outputs": [],
   "source": [
    "corpus[0]"
   ]
  },
  {
   "cell_type": "code",
   "execution_count": null,
   "id": "2a375ab3",
   "metadata": {
    "execution": {
     "iopub.status.busy": "2024-09-03T09:26:31.487498Z",
     "iopub.status.idle": "2024-09-03T09:26:31.487970Z",
     "shell.execute_reply": "2024-09-03T09:26:31.487734Z",
     "shell.execute_reply.started": "2024-09-03T09:26:31.487713Z"
    },
    "id": "-3G8l0cj2kuU",
    "outputId": "92b65735-0273-4f7f-d36f-5657666e440d",
    "papermill": {
     "duration": null,
     "end_time": null,
     "exception": null,
     "start_time": null,
     "status": "pending"
    },
    "tags": []
   },
   "outputs": [],
   "source": [
    "wrd_freq = weighted_freq_words(processed_txt)\n",
    "w, a, f =compute_zipf_law(wrd_freq)"
   ]
  },
  {
   "cell_type": "code",
   "execution_count": null,
   "id": "fa33b297",
   "metadata": {
    "execution": {
     "iopub.status.busy": "2024-09-03T09:26:31.489044Z",
     "iopub.status.idle": "2024-09-03T09:26:31.489395Z",
     "shell.execute_reply": "2024-09-03T09:26:31.489238Z",
     "shell.execute_reply.started": "2024-09-03T09:26:31.489223Z"
    },
    "id": "wo8JGr0eULCV",
    "papermill": {
     "duration": null,
     "end_time": null,
     "exception": null,
     "start_time": null,
     "status": "pending"
    },
    "tags": []
   },
   "outputs": [],
   "source": [
    "a"
   ]
  },
  {
   "cell_type": "code",
   "execution_count": null,
   "id": "ba6c7785",
   "metadata": {
    "id": "i8SV2oUIUK_Y",
    "papermill": {
     "duration": null,
     "end_time": null,
     "exception": null,
     "start_time": null,
     "status": "pending"
    },
    "tags": []
   },
   "outputs": [],
   "source": []
  },
  {
   "cell_type": "code",
   "execution_count": null,
   "id": "04a79095",
   "metadata": {
    "id": "825HpU36UK8T",
    "papermill": {
     "duration": null,
     "end_time": null,
     "exception": null,
     "start_time": null,
     "status": "pending"
    },
    "tags": []
   },
   "outputs": [],
   "source": []
  },
  {
   "cell_type": "code",
   "execution_count": null,
   "id": "1661c3b2",
   "metadata": {
    "execution": {
     "iopub.status.busy": "2024-09-03T09:26:31.491626Z",
     "iopub.status.idle": "2024-09-03T09:26:31.492042Z",
     "shell.execute_reply": "2024-09-03T09:26:31.491839Z",
     "shell.execute_reply.started": "2024-09-03T09:26:31.491822Z"
    },
    "id": "q8wFBtYx2krw",
    "papermill": {
     "duration": null,
     "end_time": null,
     "exception": null,
     "start_time": null,
     "status": "pending"
    },
    "tags": []
   },
   "outputs": [],
   "source": [
    "a"
   ]
  },
  {
   "cell_type": "code",
   "execution_count": null,
   "id": "87b49680",
   "metadata": {
    "id": "NOZs4nDZ2ko1",
    "papermill": {
     "duration": null,
     "end_time": null,
     "exception": null,
     "start_time": null,
     "status": "pending"
    },
    "tags": []
   },
   "outputs": [],
   "source": []
  },
  {
   "cell_type": "code",
   "execution_count": null,
   "id": "6020a123",
   "metadata": {
    "id": "52Z9G5CP9bVB",
    "papermill": {
     "duration": null,
     "end_time": null,
     "exception": null,
     "start_time": null,
     "status": "pending"
    },
    "tags": []
   },
   "outputs": [],
   "source": []
  },
  {
   "cell_type": "markdown",
   "id": "dfc13c32",
   "metadata": {
    "id": "wrG1Xq9-MF8d",
    "papermill": {
     "duration": null,
     "end_time": null,
     "exception": null,
     "start_time": null,
     "status": "pending"
    },
    "tags": []
   },
   "source": [
    "# Rough work"
   ]
  },
  {
   "cell_type": "code",
   "execution_count": null,
   "id": "eba8d2e1",
   "metadata": {
    "id": "mnGpAkdoMJu8",
    "papermill": {
     "duration": null,
     "end_time": null,
     "exception": null,
     "start_time": null,
     "status": "pending"
    },
    "tags": []
   },
   "outputs": [],
   "source": []
  }
 ],
 "metadata": {
  "colab": {
   "provenance": []
  },
  "kaggle": {
   "accelerator": "none",
   "dataSources": [
    {
     "databundleVersionId": 861823,
     "sourceId": 3004,
     "sourceType": "competition"
    },
    {
     "datasetId": 5627627,
     "sourceId": 9295160,
     "sourceType": "datasetVersion"
    }
   ],
   "dockerImageVersionId": 30698,
   "isGpuEnabled": false,
   "isInternetEnabled": false,
   "language": "python",
   "sourceType": "notebook"
  },
  "kernelspec": {
   "display_name": "Python 3",
   "language": "python",
   "name": "python3"
  },
  "language_info": {
   "codemirror_mode": {
    "name": "ipython",
    "version": 3
   },
   "file_extension": ".py",
   "mimetype": "text/x-python",
   "name": "python",
   "nbconvert_exporter": "python",
   "pygments_lexer": "ipython3",
   "version": "3.10.13"
  },
  "papermill": {
   "default_parameters": {},
   "duration": 20383.791455,
   "end_time": "2024-09-03T16:12:43.333642",
   "environment_variables": {},
   "exception": true,
   "input_path": "__notebook__.ipynb",
   "output_path": "__notebook__.ipynb",
   "parameters": {},
   "start_time": "2024-09-03T10:32:59.542187",
   "version": "2.5.0"
  }
 },
 "nbformat": 4,
 "nbformat_minor": 5
}
